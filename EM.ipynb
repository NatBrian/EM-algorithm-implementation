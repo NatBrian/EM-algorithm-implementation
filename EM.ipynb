{
 "cells": [
  {
   "cell_type": "code",
   "execution_count": 1,
   "metadata": {},
   "outputs": [],
   "source": [
    "# Nathanael Brian\n",
    "# brian.atmawidjaja@gmail.com"
   ]
  },
  {
   "cell_type": "code",
   "execution_count": 2,
   "metadata": {},
   "outputs": [
    {
     "data": {
      "text/html": [
       "<div>\n",
       "<style scoped>\n",
       "    .dataframe tbody tr th:only-of-type {\n",
       "        vertical-align: middle;\n",
       "    }\n",
       "\n",
       "    .dataframe tbody tr th {\n",
       "        vertical-align: top;\n",
       "    }\n",
       "\n",
       "    .dataframe thead th {\n",
       "        text-align: right;\n",
       "    }\n",
       "</style>\n",
       "<table border=\"1\" class=\"dataframe\">\n",
       "  <thead>\n",
       "    <tr style=\"text-align: right;\">\n",
       "      <th></th>\n",
       "      <th>customer_id</th>\n",
       "      <th>gender</th>\n",
       "      <th>most_recent_order_date</th>\n",
       "      <th>order_count</th>\n",
       "      <th>predicted_gender</th>\n",
       "    </tr>\n",
       "  </thead>\n",
       "  <tbody>\n",
       "    <tr>\n",
       "      <th>0</th>\n",
       "      <td>1000</td>\n",
       "      <td>0</td>\n",
       "      <td>2017-01-01 00:11:31</td>\n",
       "      <td>198.50</td>\n",
       "      <td>1</td>\n",
       "    </tr>\n",
       "    <tr>\n",
       "      <th>1</th>\n",
       "      <td>1001</td>\n",
       "      <td>0</td>\n",
       "      <td>2017-01-01 00:29:56</td>\n",
       "      <td>338.00</td>\n",
       "      <td>1</td>\n",
       "    </tr>\n",
       "    <tr>\n",
       "      <th>2</th>\n",
       "      <td>1002</td>\n",
       "      <td>1</td>\n",
       "      <td>2017-01-01 01:30:31</td>\n",
       "      <td>733.00</td>\n",
       "      <td>1</td>\n",
       "    </tr>\n",
       "    <tr>\n",
       "      <th>3</th>\n",
       "      <td>1003</td>\n",
       "      <td>1</td>\n",
       "      <td>2017-01-01 01:34:22</td>\n",
       "      <td>772.00</td>\n",
       "      <td>1</td>\n",
       "    </tr>\n",
       "    <tr>\n",
       "      <th>4</th>\n",
       "      <td>1004</td>\n",
       "      <td>0</td>\n",
       "      <td>2017-01-01 03:11:54</td>\n",
       "      <td>508.00</td>\n",
       "      <td>1</td>\n",
       "    </tr>\n",
       "    <tr>\n",
       "      <th>5</th>\n",
       "      <td>1005</td>\n",
       "      <td>1</td>\n",
       "      <td>2017-01-01 10:08:05</td>\n",
       "      <td>338.00</td>\n",
       "      <td>0</td>\n",
       "    </tr>\n",
       "    <tr>\n",
       "      <th>6</th>\n",
       "      <td>1006</td>\n",
       "      <td>1</td>\n",
       "      <td>2017-01-01 15:42:57</td>\n",
       "      <td>1526.43</td>\n",
       "      <td>1</td>\n",
       "    </tr>\n",
       "    <tr>\n",
       "      <th>7</th>\n",
       "      <td>1007</td>\n",
       "      <td>0</td>\n",
       "      <td>2017-01-01 15:59:50</td>\n",
       "      <td>168.00</td>\n",
       "      <td>0</td>\n",
       "    </tr>\n",
       "    <tr>\n",
       "      <th>8</th>\n",
       "      <td>1008</td>\n",
       "      <td>0</td>\n",
       "      <td>2017-01-01 18:01:04</td>\n",
       "      <td>207.99</td>\n",
       "      <td>0</td>\n",
       "    </tr>\n",
       "    <tr>\n",
       "      <th>9</th>\n",
       "      <td>1009</td>\n",
       "      <td>1</td>\n",
       "      <td>2017-01-01 19:27:17</td>\n",
       "      <td>283.00</td>\n",
       "      <td>1</td>\n",
       "    </tr>\n",
       "  </tbody>\n",
       "</table>\n",
       "</div>"
      ],
      "text/plain": [
       "   customer_id  gender most_recent_order_date  order_count  predicted_gender\n",
       "0         1000       0    2017-01-01 00:11:31       198.50                 1\n",
       "1         1001       0    2017-01-01 00:29:56       338.00                 1\n",
       "2         1002       1    2017-01-01 01:30:31       733.00                 1\n",
       "3         1003       1    2017-01-01 01:34:22       772.00                 1\n",
       "4         1004       0    2017-01-01 03:11:54       508.00                 1\n",
       "5         1005       1    2017-01-01 10:08:05       338.00                 0\n",
       "6         1006       1    2017-01-01 15:42:57      1526.43                 1\n",
       "7         1007       0    2017-01-01 15:59:50       168.00                 0\n",
       "8         1008       0    2017-01-01 18:01:04       207.99                 0\n",
       "9         1009       1    2017-01-01 19:27:17       283.00                 1"
      ]
     },
     "execution_count": 2,
     "metadata": {},
     "output_type": "execute_result"
    }
   ],
   "source": [
    "import pandas as pd\n",
    "import dateutil\n",
    "import datetime\n",
    "import matplotlib.pyplot as plt\n",
    "from sklearn.metrics import confusion_matrix\n",
    "from sklearn.metrics import classification_report \n",
    "import numpy as np\n",
    "import math\n",
    "from sympy import S, symbols, init_printing\n",
    "\n",
    "data = pd.read_csv(\"v201810.csv\") \n",
    "data.columns = ['customer_id','gender','most_recent_order_date','order_count','predicted_gender']\n",
    "data.head(10)"
   ]
  },
  {
   "cell_type": "code",
   "execution_count": 3,
   "metadata": {},
   "outputs": [
    {
     "data": {
      "image/png": "[encoded data removed]",
      "text/plain": [
       "<Figure size 432x288 with 1 Axes>"
      ]
     },
     "metadata": {
      "needs_background": "light"
     },
     "output_type": "display_data"
    }
   ],
   "source": [
    "data['date'] = data['most_recent_order_date'].apply(dateutil.parser.parse, dayfirst=True)\n",
    "dataB = data.groupby([pd.Grouper(key='date', freq='W')])['order_count'].sum().reset_index().sort_values('date')\n",
    "ax = plt.gca()\n",
    "dataB.plot(kind='line',x='date',y='order_count',ax=ax)\n",
    "plt.show()"
   ]
  },
  {
   "cell_type": "code",
   "execution_count": 4,
   "metadata": {},
   "outputs": [
    {
     "data": {
      "text/plain": [
       "gender\n",
       "0    363.890006\n",
       "1    350.708361\n",
       "Name: order_count, dtype: float64"
      ]
     },
     "execution_count": 4,
     "metadata": {},
     "output_type": "execute_result"
    }
   ],
   "source": [
    "data.groupby(['gender'])['order_count'].mean()\n",
    "# There is a significant difference between the two average order of the two genders.\n",
    "# p-value = 0.0481426 < 5% level of significance\n",
    "# Based on the sample data, with 5% level of significance, the true average order of gender 0 and gender 1 are different."
   ]
  },
  {
   "cell_type": "code",
   "execution_count": 5,
   "metadata": {},
   "outputs": [
    {
     "data": {
      "text/plain": [
       "gender\n",
       "0    396.533215\n",
       "1    377.504737\n",
       "Name: order_count, dtype: float64"
      ]
     },
     "execution_count": 5,
     "metadata": {},
     "output_type": "execute_result"
    }
   ],
   "source": [
    "data.groupby(['gender'])['order_count'].std()"
   ]
  },
  {
   "cell_type": "code",
   "execution_count": 6,
   "metadata": {},
   "outputs": [
    {
     "name": "stdout",
     "output_type": "stream",
     "text": [
      "[[3349 3410]\n",
      " [1463 5249]]\n"
     ]
    }
   ],
   "source": [
    "\n",
    "confusionMatrix = confusion_matrix(data['gender'].tolist(), data['predicted_gender'].tolist())\n",
    "print(confusionMatrix)"
   ]
  },
  {
   "cell_type": "code",
   "execution_count": 7,
   "metadata": {},
   "outputs": [
    {
     "name": "stdout",
     "output_type": "stream",
     "text": [
      "              precision    recall  f1-score   support\n",
      "\n",
      "           0       0.70      0.50      0.58      6759\n",
      "           1       0.61      0.78      0.68      6712\n",
      "\n",
      "    accuracy                           0.64     13471\n",
      "   macro avg       0.65      0.64      0.63     13471\n",
      "weighted avg       0.65      0.64      0.63     13471\n",
      "\n"
     ]
    }
   ],
   "source": [
    "\n",
    "print(classification_report(data['gender'].tolist(), data['predicted_gender'].tolist()))\n",
    "# High precision and low recall shows that we miss a lot of positive examples, but those positive prediction are indeed positive"
   ]
  },
  {
   "cell_type": "code",
   "execution_count": 8,
   "metadata": {},
   "outputs": [],
   "source": [
    "# My favorite technique is EM Algorithm which i just recently learned. It is a fascinating algorithm that\n",
    "# has the ability to deal with missing data and unobserved features."
   ]
  },
  {
   "cell_type": "code",
   "execution_count": 13,
   "metadata": {},
   "outputs": [
    {
     "name": "stdout",
     "output_type": "stream",
     "text": [
      "((-0.9242997541949087, -0.006305942692638844), (-4.18805255676881, 3.365863673844757))\n"
     ]
    },
    {
     "data": {
      "image/png": "[encoded data removed]",
      "text/plain": [
       "<Figure size 432x288 with 1 Axes>"
      ]
     },
     "metadata": {
      "needs_background": "light"
     },
     "output_type": "display_data"
    },
    {
     "name": "stdout",
     "output_type": "stream",
     "text": [
      "((-0.9999999999999964, 0.0), (0.4239926121977078, 1.2688029315047515))\n"
     ]
    },
    {
     "data": {
      "image/png": "[encoded data removed]",
      "text/plain": [
       "<Figure size 432x288 with 1 Axes>"
      ]
     },
     "metadata": {
      "needs_background": "light"
     },
     "output_type": "display_data"
    },
    {
     "name": "stdout",
     "output_type": "stream",
     "text": [
      "((-1.0000000000000036, 0.0), (0.9999999999990905, 1.0))\n"
     ]
    },
    {
     "data": {
      "image/png": "[encoded data removed]",
      "text/plain": [
       "<Figure size 432x288 with 1 Axes>"
      ]
     },
     "metadata": {
      "needs_background": "light"
     },
     "output_type": "display_data"
    },
    {
     "name": "stdout",
     "output_type": "stream",
     "text": [
      "((-1.0000000000000036, 0.0), (0.9999999999990905, 1.0))\n"
     ]
    },
    {
     "data": {
      "image/png": "[encoded data removed]",
      "text/plain": [
       "<Figure size 432x288 with 1 Axes>"
      ]
     },
     "metadata": {
      "needs_background": "light"
     },
     "output_type": "display_data"
    },
    {
     "name": "stdout",
     "output_type": "stream",
     "text": [
      "((-1.0000000000000036, 0.0), (0.9999999999990905, 1.0))\n"
     ]
    },
    {
     "data": {
      "image/png": "[encoded data removed]",
      "text/plain": [
       "<Figure size 432x288 with 1 Axes>"
      ]
     },
     "metadata": {
      "needs_background": "light"
     },
     "output_type": "display_data"
    }
   ],
   "source": [
    "x = np.arange(0.0, 1.05, 0.05)\n",
    "y = []\n",
    "for xi in x:\n",
    "    if abs(xi - 0.5) < 0.25:\n",
    "        y.append(xi + 1)\n",
    "    else:\n",
    "        y.append(-xi)\n",
    "\n",
    "\n",
    "def EM(x, y, a1, b1, a2, b2):\n",
    "    # Expectation (E) Step\n",
    "    # Residuals r1(i) = a1 xi + b1 - yi\n",
    "    r1 = []  # a1 xi + b1 - yi\n",
    "    r2 = []  # a2 xi + b2 - yi\n",
    "    for i in range(len(x)):\n",
    "        r1.append(a1 * x[i] + b1 - y[i])\n",
    "        r2.append(a2 * x[i] + b2 - y[i])\n",
    "\n",
    "    # Weights. sigma^2=0.1\n",
    "    w1 = []\n",
    "    w2 = []\n",
    "    for i in range(len(x)):\n",
    "        w1.append(math.e ** (-(r1[i] ** 2) / (0.1 ** 2)) / (\n",
    "                    math.e ** (-(r1[i] ** 2) / (0.1 ** 2)) + math.e ** (-(r2[i] ** 2) / (0.1 ** 2))))\n",
    "        w2.append(math.e ** (-(r2[i] ** 2) / (0.1 ** 2)) / (\n",
    "                    math.e ** (-(r1[i] ** 2) / (0.1 ** 2)) + math.e ** (-(r2[i] ** 2) / (0.1 ** 2))))\n",
    "    # Maximization (M) Step\n",
    "    sum_wixi2_1 = 0\n",
    "    sum_wixi_1 = 0\n",
    "    sum_wi1_1 = 0\n",
    "    sum_wixiyi_1 = 0\n",
    "    sum_wiyi_1 = 0\n",
    "\n",
    "    sum_wixi2_2 = 0\n",
    "    sum_wixi_2 = 0\n",
    "    sum_wi1_2 = 0\n",
    "    sum_wixiyi_2 = 0\n",
    "    sum_wiyi_2 = 0\n",
    "\n",
    "    for i in range(len(x)):\n",
    "        sum_wixi2_1 += (w1[i] * (x[i]**2))\n",
    "        sum_wixi_1 += (w1[i] * x[i])\n",
    "        sum_wi1_1 += (w1[i])\n",
    "        sum_wixiyi_1 += (w1[i] * x[i] * y[i])\n",
    "        sum_wiyi_1 += (w1[i] * y[i])\n",
    "\n",
    "        sum_wixi2_2 += (w2[i] * (x[i] ** 2))\n",
    "        sum_wixi_2 += (w2[i] * x[i])\n",
    "        sum_wi1_2 += (w2[i])\n",
    "        sum_wixiyi_2 += (w2[i] * x[i] * y[i])\n",
    "        sum_wiyi_2 += (w2[i] * y[i])\n",
    "\n",
    "    # Least Squares xhat = inv(AT*A) AT*b\n",
    "    M1 = np.array([[sum_wixi2_1, sum_wixi_1], [sum_wixi_1, sum_wi1_1]])\n",
    "    E1 = np.array([[sum_wixiyi_1],[sum_wiyi_1]])\n",
    "    M2 = np.array([[sum_wixi2_2, sum_wixi_2], [sum_wixi_2, sum_wi1_2]])\n",
    "    E2 = np.array([[sum_wixiyi_2], [sum_wiyi_2]])\n",
    "    MT1 = np.transpose(M1)\n",
    "    MT2 = np.transpose(M2)\n",
    "    Xhat1 = np.dot(np.linalg.inv(np.dot(MT1, M1)), np.dot(MT1, E1))\n",
    "    Xhat2 = np.dot(np.linalg.inv(np.dot(MT2, M2)), np.dot(MT2, E2))\n",
    "\n",
    "    a1 = Xhat1[0][0]\n",
    "    b1 = Xhat1[1][0]\n",
    "    a2 = Xhat2[0][0]\n",
    "    b2 = Xhat2[1][0]\n",
    "    return (a1, b1), (a2, b2)\n",
    "\n",
    "\n",
    "c = np.random.uniform(0, 1, 4)\n",
    "ab = (EM(x, y, c[0], c[1], c[2], c[3]))\n",
    "ay1 = x*ab[0][0] + ab[0][1]\n",
    "ay2 = x*ab[1][0] + ab[1][1]\n",
    "z1 = np.polyfit(x, ay1, 1)\n",
    "z2 = np.polyfit(x, ay2, 1)\n",
    "f1 = np.poly1d(z1)\n",
    "f2 = np.poly1d(z2)\n",
    "\n",
    "print(ab)\n",
    "init_printing()\n",
    "fig = plt.figure()\n",
    "plt.plot(x, y, '.')\n",
    "plt.plot(x, f1(x), '-')\n",
    "plt.plot(x, f2(x), '-')\n",
    "plt.show()\n",
    "\n",
    "for i in range(4):\n",
    "    ab = EM(x, y, ab[0][0], ab[0][1], ab[1][0], ab[1][1])\n",
    "    ay1 = x * ab[0][0] + ab[0][1]\n",
    "    ay2 = x * ab[1][0] + ab[1][1]\n",
    "    z1 = np.polyfit(x, ay1, 1)\n",
    "    z2 = np.polyfit(x, ay2, 1)\n",
    "    f1 = np.poly1d(z1)\n",
    "    f2 = np.poly1d(z2)\n",
    "    x_ = symbols(\"x\")\n",
    "    \n",
    "    print(ab)\n",
    "    init_printing()\n",
    "    fig = plt.figure()\n",
    "    plt.plot(x, y, '.')\n",
    "    plt.plot(x, f1(x), '-')\n",
    "    plt.plot(x, f2(x), '-')\n",
    "    plt.show()"
   ]
  },
  {
   "cell_type": "code",
   "execution_count": null,
   "metadata": {},
   "outputs": [],
   "source": []
  }
 ],
 "metadata": {
  "kernelspec": {
   "display_name": "Python 3",
   "language": "python",
   "name": "python3"
  },
  "language_info": {
   "codemirror_mode": {
    "name": "ipython",
    "version": 3
   },
   "file_extension": ".py",
   "mimetype": "text/x-python",
   "name": "python",
   "nbconvert_exporter": "python",
   "pygments_lexer": "ipython3",
   "version": "3.7.3"
  }
 },
 "nbformat": 4,
 "nbformat_minor": 2
}
